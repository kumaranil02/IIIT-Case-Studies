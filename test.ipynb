{
 "cells": [
  {
   "cell_type": "code",
   "execution_count": 2,
   "metadata": {},
   "outputs": [],
   "source": [
    "import sys\n",
    "import re\n",
    "import numpy as np\n",
    "import pandas as pd\n",
    "import matplotlib.pyplot as plt\n",
    "import seaborn as sns\n",
    "#import plotly.express as px\n",
    "import warnings \n",
    "#import cufflinks as cf\n",
    "#import altair as alt\n",
    "#alt.data_transformers.disable_max_rows()\n",
    "#from plotly.offline import download_plotlyjs,init_notebook_mode,plot,iplot\n",
    "#init_notebook_mode(connected=True)\n",
    "#cf.go_offline()\n",
    "warnings.simplefilter('ignore')\n",
    "pd.set_option('display.float_format', lambda x: '%.5f' % x)\n",
    "pd.set_option('display.max_columns', None)"
   ]
  },
  {
   "cell_type": "code",
   "execution_count": 3,
   "metadata": {},
   "outputs": [],
   "source": [
    "%config Completer.use_jedi = False"
   ]
  },
  {
   "cell_type": "code",
   "execution_count": 4,
   "metadata": {},
   "outputs": [],
   "source": [
    "data=pd.read_excel(\"Sample_NPS_Data.xlsx\")"
   ]
  },
  {
   "cell_type": "code",
   "execution_count": 5,
   "metadata": {},
   "outputs": [
    {
     "data": {
      "text/html": [
       "<div>\n",
       "<style scoped>\n",
       "    .dataframe tbody tr th:only-of-type {\n",
       "        vertical-align: middle;\n",
       "    }\n",
       "\n",
       "    .dataframe tbody tr th {\n",
       "        vertical-align: top;\n",
       "    }\n",
       "\n",
       "    .dataframe thead th {\n",
       "        text-align: right;\n",
       "    }\n",
       "</style>\n",
       "<table border=\"1\" class=\"dataframe\">\n",
       "  <thead>\n",
       "    <tr style=\"text-align: right;\">\n",
       "      <th></th>\n",
       "      <th>Claim Number</th>\n",
       "      <th>Claim Creation Date</th>\n",
       "      <th>Policy Number</th>\n",
       "      <th>Peril Type</th>\n",
       "      <th>Loss Location</th>\n",
       "      <th>Property Age</th>\n",
       "      <th>Floor Damage Indicator</th>\n",
       "      <th>Ceiling Damage Indicator</th>\n",
       "      <th>Wall Damage Indicator</th>\n",
       "      <th>Window Damage Indicator</th>\n",
       "      <th>Door Damage Indicator</th>\n",
       "      <th>Kitchen INDI</th>\n",
       "      <th>Bedroom INDI</th>\n",
       "      <th>Lounge INDI</th>\n",
       "      <th>Garage INDI</th>\n",
       "      <th>Hall INDI</th>\n",
       "      <th>Bathroom INDI</th>\n",
       "      <th>Dining Room INDI</th>\n",
       "      <th>Claim Postcode</th>\n",
       "      <th>Claim Lat</th>\n",
       "      <th>Claim Long</th>\n",
       "      <th>Vendor Name</th>\n",
       "      <th>Vendor Score</th>\n",
       "      <th>Vendor Postcode</th>\n",
       "      <th>Vendor Lat</th>\n",
       "      <th>Vendor Long</th>\n",
       "    </tr>\n",
       "  </thead>\n",
       "  <tbody>\n",
       "    <tr>\n",
       "      <th>0</th>\n",
       "      <td>M2082207</td>\n",
       "      <td>13-8-2019</td>\n",
       "      <td>968676</td>\n",
       "      <td>Loss/Damage</td>\n",
       "      <td>Berkshire</td>\n",
       "      <td>22</td>\n",
       "      <td>1</td>\n",
       "      <td>1</td>\n",
       "      <td>0</td>\n",
       "      <td>0</td>\n",
       "      <td>1</td>\n",
       "      <td>1</td>\n",
       "      <td>1</td>\n",
       "      <td>0</td>\n",
       "      <td>1</td>\n",
       "      <td>0</td>\n",
       "      <td>1</td>\n",
       "      <td>0</td>\n",
       "      <td>GU15 4DU</td>\n",
       "      <td>51.34987</td>\n",
       "      <td>-0.78471</td>\n",
       "      <td>ABC Ltd</td>\n",
       "      <td>10</td>\n",
       "      <td>GU15 4FE</td>\n",
       "      <td>51.33843</td>\n",
       "      <td>-0.77791</td>\n",
       "    </tr>\n",
       "    <tr>\n",
       "      <th>1</th>\n",
       "      <td>M1519645</td>\n",
       "      <td>25-2-2016</td>\n",
       "      <td>417767</td>\n",
       "      <td>Escape of Water</td>\n",
       "      <td>Berkshire</td>\n",
       "      <td>24</td>\n",
       "      <td>0</td>\n",
       "      <td>0</td>\n",
       "      <td>0</td>\n",
       "      <td>0</td>\n",
       "      <td>0</td>\n",
       "      <td>0</td>\n",
       "      <td>1</td>\n",
       "      <td>0</td>\n",
       "      <td>1</td>\n",
       "      <td>1</td>\n",
       "      <td>1</td>\n",
       "      <td>1</td>\n",
       "      <td>GU15 4DX</td>\n",
       "      <td>51.34991</td>\n",
       "      <td>-0.78336</td>\n",
       "      <td>PQR Ltd</td>\n",
       "      <td>8</td>\n",
       "      <td>GU15 4FF</td>\n",
       "      <td>51.33905</td>\n",
       "      <td>-0.77616</td>\n",
       "    </tr>\n",
       "    <tr>\n",
       "      <th>2</th>\n",
       "      <td>M544064</td>\n",
       "      <td>21-1-2016</td>\n",
       "      <td>993349</td>\n",
       "      <td>Accident</td>\n",
       "      <td>Berkshire</td>\n",
       "      <td>19</td>\n",
       "      <td>0</td>\n",
       "      <td>0</td>\n",
       "      <td>1</td>\n",
       "      <td>1</td>\n",
       "      <td>0</td>\n",
       "      <td>1</td>\n",
       "      <td>0</td>\n",
       "      <td>1</td>\n",
       "      <td>1</td>\n",
       "      <td>1</td>\n",
       "      <td>0</td>\n",
       "      <td>1</td>\n",
       "      <td>GU15 4EA</td>\n",
       "      <td>51.34888</td>\n",
       "      <td>-0.78372</td>\n",
       "      <td>XYZ Ltd</td>\n",
       "      <td>10</td>\n",
       "      <td>GU15 4FG</td>\n",
       "      <td>51.33920</td>\n",
       "      <td>-0.77756</td>\n",
       "    </tr>\n",
       "  </tbody>\n",
       "</table>\n",
       "</div>"
      ],
      "text/plain": [
       "  Claim Number Claim Creation Date  Policy Number       Peril Type  \\\n",
       "0     M2082207           13-8-2019         968676      Loss/Damage   \n",
       "1     M1519645           25-2-2016         417767  Escape of Water   \n",
       "2      M544064           21-1-2016         993349         Accident   \n",
       "\n",
       "  Loss Location  Property Age  Floor Damage Indicator  \\\n",
       "0     Berkshire            22                       1   \n",
       "1     Berkshire            24                       0   \n",
       "2     Berkshire            19                       0   \n",
       "\n",
       "   Ceiling Damage Indicator  Wall Damage Indicator  Window Damage Indicator  \\\n",
       "0                         1                      0                        0   \n",
       "1                         0                      0                        0   \n",
       "2                         0                      1                        1   \n",
       "\n",
       "   Door Damage Indicator  Kitchen INDI  Bedroom INDI  Lounge INDI  \\\n",
       "0                      1             1             1            0   \n",
       "1                      0             0             1            0   \n",
       "2                      0             1             0            1   \n",
       "\n",
       "   Garage INDI  Hall INDI  Bathroom INDI  Dining Room INDI Claim Postcode  \\\n",
       "0            1          0              1                 0       GU15 4DU   \n",
       "1            1          1              1                 1       GU15 4DX   \n",
       "2            1          1              0                 1       GU15 4EA   \n",
       "\n",
       "   Claim Lat  Claim Long Vendor Name  Vendor Score Vendor Postcode  \\\n",
       "0   51.34987    -0.78471     ABC Ltd            10        GU15 4FE   \n",
       "1   51.34991    -0.78336     PQR Ltd             8        GU15 4FF   \n",
       "2   51.34888    -0.78372     XYZ Ltd            10        GU15 4FG   \n",
       "\n",
       "   Vendor Lat  Vendor Long  \n",
       "0    51.33843     -0.77791  \n",
       "1    51.33905     -0.77616  \n",
       "2    51.33920     -0.77756  "
      ]
     },
     "execution_count": 5,
     "metadata": {},
     "output_type": "execute_result"
    }
   ],
   "source": [
    "data.head(3)"
   ]
  },
  {
   "cell_type": "code",
   "execution_count": 6,
   "metadata": {},
   "outputs": [],
   "source": [
    "peril_type = list(data['Peril Type'].unique())\n"
   ]
  },
  {
   "cell_type": "code",
   "execution_count": null,
   "metadata": {},
   "outputs": [],
   "source": []
  },
  {
   "cell_type": "code",
   "execution_count": 7,
   "metadata": {},
   "outputs": [],
   "source": [
    "new_df = data[['Vendor Name', 'Vendor Score', 'Vendor Postcode', 'Vendor Lat','Vendor Long']]\n",
    "new_df = new_df.sort_values(by=['Vendor Score'], ascending=False).reset_index(drop=True)\n",
    "new_df.drop_duplicates(subset=\"Vendor Name\", inplace=True)\n",
    "final_df=new_df.sample(5)\n",
    "final_df = final_df.reset_index(drop=True)\n",
    "\n",
    "\n"
   ]
  },
  {
   "cell_type": "code",
   "execution_count": 8,
   "metadata": {},
   "outputs": [
    {
     "data": {
      "text/html": [
       "<div>\n",
       "<style scoped>\n",
       "    .dataframe tbody tr th:only-of-type {\n",
       "        vertical-align: middle;\n",
       "    }\n",
       "\n",
       "    .dataframe tbody tr th {\n",
       "        vertical-align: top;\n",
       "    }\n",
       "\n",
       "    .dataframe thead th {\n",
       "        text-align: right;\n",
       "    }\n",
       "</style>\n",
       "<table border=\"1\" class=\"dataframe\">\n",
       "  <thead>\n",
       "    <tr style=\"text-align: right;\">\n",
       "      <th></th>\n",
       "      <th>Vendor Name</th>\n",
       "      <th>Vendor Score</th>\n",
       "      <th>Vendor Postcode</th>\n",
       "      <th>Vendor Lat</th>\n",
       "      <th>Vendor Long</th>\n",
       "    </tr>\n",
       "  </thead>\n",
       "  <tbody>\n",
       "    <tr>\n",
       "      <th>0</th>\n",
       "      <td>ABC Ltd</td>\n",
       "      <td>10</td>\n",
       "      <td>GU15 4FE</td>\n",
       "      <td>51.33843</td>\n",
       "      <td>-0.77791</td>\n",
       "    </tr>\n",
       "    <tr>\n",
       "      <th>1</th>\n",
       "      <td>TMV Ltd</td>\n",
       "      <td>10</td>\n",
       "      <td>BS1 1BA</td>\n",
       "      <td>51.45177</td>\n",
       "      <td>-2.59430</td>\n",
       "    </tr>\n",
       "    <tr>\n",
       "      <th>2</th>\n",
       "      <td>LNT Ltd</td>\n",
       "      <td>8</td>\n",
       "      <td>BS1 1BD</td>\n",
       "      <td>51.44952</td>\n",
       "      <td>-2.57837</td>\n",
       "    </tr>\n",
       "    <tr>\n",
       "      <th>3</th>\n",
       "      <td>CMO Ltd</td>\n",
       "      <td>10</td>\n",
       "      <td>BS1 1BF</td>\n",
       "      <td>51.44952</td>\n",
       "      <td>-2.57837</td>\n",
       "    </tr>\n",
       "    <tr>\n",
       "      <th>4</th>\n",
       "      <td>PQR Ltd</td>\n",
       "      <td>9</td>\n",
       "      <td>GU15 4FF</td>\n",
       "      <td>51.33905</td>\n",
       "      <td>-0.77616</td>\n",
       "    </tr>\n",
       "  </tbody>\n",
       "</table>\n",
       "</div>"
      ],
      "text/plain": [
       "  Vendor Name  Vendor Score Vendor Postcode  Vendor Lat  Vendor Long\n",
       "0     ABC Ltd            10        GU15 4FE    51.33843     -0.77791\n",
       "1     TMV Ltd            10         BS1 1BA    51.45177     -2.59430\n",
       "2     LNT Ltd             8         BS1 1BD    51.44952     -2.57837\n",
       "3     CMO Ltd            10         BS1 1BF    51.44952     -2.57837\n",
       "4     PQR Ltd             9        GU15 4FF    51.33905     -0.77616"
      ]
     },
     "execution_count": 8,
     "metadata": {},
     "output_type": "execute_result"
    }
   ],
   "source": [
    "final_df"
   ]
  },
  {
   "cell_type": "code",
   "execution_count": 10,
   "metadata": {},
   "outputs": [],
   "source": [
    "plot_df = final_df.copy()\n"
   ]
  },
  {
   "cell_type": "code",
   "execution_count": 13,
   "metadata": {},
   "outputs": [],
   "source": [
    "import streamlit as st"
   ]
  },
  {
   "cell_type": "code",
   "execution_count": 15,
   "metadata": {},
   "outputs": [],
   "source": [
    "import pydeck as pdk"
   ]
  },
  {
   "cell_type": "code",
   "execution_count": 16,
   "metadata": {},
   "outputs": [
    {
     "name": "stderr",
     "output_type": "stream",
     "text": [
      "2021-07-25 13:12:39.140 \n",
      "  \u001b[33m\u001b[1mWarning:\u001b[0m to view this Streamlit app on a browser, run it with the following\n",
      "  command:\n",
      "\n",
      "    streamlit run N:\\Anaconda\\lib\\site-packages\\ipykernel_launcher.py [ARGUMENTS]\n"
     ]
    },
    {
     "data": {
      "text/plain": [
       "DeltaGenerator(_root_container=0, _provided_cursor=None, _parent=None, _block_type=None, _form_data=None)"
      ]
     },
     "execution_count": 16,
     "metadata": {},
     "output_type": "execute_result"
    }
   ],
   "source": [
    "st.pydeck_chart(\n",
    "    pdk.Deck(\n",
    "        map_style=\"mapbox://styles/mapbox/light-v9\",\n",
    "        initial_view_state=pdk.ViewState(\n",
    "            latitude=plot_df[\"Vendor Lat\"][0],\n",
    "            longitude=plot_df[\"Vendor Long\"][0],\n",
    "            zoom=20,\n",
    "            pitch=50,\n",
    "        ),\n",
    "        layers=[\n",
    "            pdk.Layer(\n",
    "                \"ScatterplotLayer\",\n",
    "                data=plot_df,\n",
    "                get_position=\"[Vendor Long, Vendor Lat]\",\n",
    "                get_radius=5,\n",
    "                pickable=True,\n",
    "                opacity=0.8,\n",
    "                stroked=False,\n",
    "                filled=True,\n",
    "                wireframe=True,\n",
    "            ),\n",
    "            pdk.Layer(\n",
    "                \"HexagonLayer\",\n",
    "                data=data,\n",
    "                get_position=\"[Vendor Long, Vendor Lat]\",\n",
    "                radius=2.5,\n",
    "                elevation_scale=0.1,\n",
    "                pickable=True,\n",
    "                extruded=True,\n",
    "                auto_highlight=True,\n",
    "                coverage=0.9,\n",
    "            ),\n",
    "        ],\n",
    "        tooltip={\n",
    "            \"html\": \"<b>adresse:</b> {address}\"\n",
    "            \"<br/> <b>mape:</b> {pourc_err}\"\n",
    "            \" <br/> <b>count:</b> {flow_value_count} \"\n",
    "            \"<br/> <b>prediction:</b> {flow_value_streaming}\"\n",
    "            \"<br/> <b>pedestrian ids:</b> {elevationValue}\",\n",
    "            \"style\": {\"color\": \"white\"},\n",
    "        },\n",
    "    )\n",
    ")\n"
   ]
  },
  {
   "cell_type": "code",
   "execution_count": 17,
   "metadata": {},
   "outputs": [
    {
     "data": {
      "text/plain": [
       "51.451775"
      ]
     },
     "execution_count": 17,
     "metadata": {},
     "output_type": "execute_result"
    }
   ],
   "source": [
    "plot_df[\"Vendor Lat\"][1]\n"
   ]
  },
  {
   "cell_type": "code",
   "execution_count": null,
   "metadata": {},
   "outputs": [],
   "source": []
  }
 ],
 "metadata": {
  "interpreter": {
   "hash": "15a46328d46a9972975b44d8cce38218389b4522b65a82b8a03a18442d90a006"
  },
  "kernelspec": {
   "display_name": "Python 3",
   "language": "python",
   "name": "python3"
  },
  "language_info": {
   "codemirror_mode": {
    "name": "ipython",
    "version": 3
   },
   "file_extension": ".py",
   "mimetype": "text/x-python",
   "name": "python",
   "nbconvert_exporter": "python",
   "pygments_lexer": "ipython3",
   "version": "3.8.8"
  }
 },
 "nbformat": 4,
 "nbformat_minor": 2
}
